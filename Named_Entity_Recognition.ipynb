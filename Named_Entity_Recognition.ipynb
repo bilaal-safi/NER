{
 "cells": [
  {
   "cell_type": "markdown",
   "id": "88f76f02-2809-4d88-8f26-0797630d7d4d",
   "metadata": {},
   "source": [
    "# NAMED ENTITY RECOGNITION"
   ]
  },
  {
   "cell_type": "code",
   "execution_count": 1,
   "id": "e925c560-e4b2-451e-bd71-ffbeee889144",
   "metadata": {
    "tags": []
   },
   "outputs": [],
   "source": [
    "# execute this once to get the data set\n",
    "# !mkdir -p data!\n",
    "# !wget https://data.deepai.org/conll2003.zip -P data/\n",
    "# !unzip data/conll2003.zip -d data/"
   ]
  },
  {
   "cell_type": "markdown",
   "id": "d811baeb",
   "metadata": {},
   "source": [
    "# Libraries to Import"
   ]
  },
  {
   "cell_type": "code",
   "execution_count": 2,
   "id": "26b8d1c8-2646-425e-9875-76c36180f10c",
   "metadata": {
    "tags": []
   },
   "outputs": [],
   "source": [
    "import numpy as np\n",
    "import pandas as pd \n",
    "import matplotlib.pyplot as plt\n",
    "import tensorflow as tf \n",
    "from tensorflow.keras.utils import to_categorical\n",
    "from tensorflow.keras import Model, Input\n",
    "from tensorflow.keras.layers import LSTM, Embedding, Dense, TimeDistributed, SpatialDropout1D, Bidirectional, Dropout\n",
    "from tensorflow.keras.models import Sequential\n",
    "from tensorflow.keras.metrics import Precision\n",
    "from sklearn.metrics import precision_score, recall_score"
   ]
  },
  {
   "cell_type": "markdown",
   "id": "febbebfe",
   "metadata": {},
   "source": [
    "# Importing Data"
   ]
  },
  {
   "cell_type": "code",
   "execution_count": 3,
   "id": "863f5446",
   "metadata": {},
   "outputs": [],
   "source": [
    "def read_and_process(file_path):\n",
    "    # Reading data as text\n",
    "    with open(file_path) as f:\n",
    "        text = f.read().split(\"\\n\")[2:]\n",
    "        \n",
    "    # Storing Input sentences and their respective tags in X and y variables \n",
    "    X = []\n",
    "    y = []\n",
    "    X_seq = []\n",
    "    y_seq = []\n",
    "    lens = []\n",
    "    for e in text:\n",
    "        if e == \"\":\n",
    "            X.append(X_seq)\n",
    "            y.append(y_seq)\n",
    "            lens.append(len(X_seq))\n",
    "            X_seq = []\n",
    "            y_seq = []\n",
    "        else:\n",
    "            w = e.split()\n",
    "            assert len(w) == 4\n",
    "            X_seq.append(w[0])  # token\n",
    "            y_seq.append(w[3])  # NER\n",
    "            \n",
    "    #some statistics about respective data\n",
    "    print(\"Number of sentences:\", len(X))\n",
    "    ner_tags = set([item for sublist in y for item in sublist])\n",
    "    print(\"Number of NER taggings:\", len(ner_tags))\n",
    "    print(\"NER tags:\", ner_tags)\n",
    "    #Calculating percentiles to understand the distribution of the sentence lengths \n",
    "    print(\"Quantiles of the sentence lengths:\", np.quantile(lens, q=[0.25, 0.5, 0.75, 1]))\n",
    "    print(\"Number of Input sentences:\", len(X))\n",
    "    print(\"Number of Label sentences:\", len(y))\n",
    "    return X, y"
   ]
  },
  {
   "cell_type": "code",
   "execution_count": 4,
   "id": "ef2efdc6",
   "metadata": {},
   "outputs": [
    {
     "name": "stdout",
     "output_type": "stream",
     "text": [
      "Number of sentences: 14987\n",
      "Number of NER taggings: 9\n",
      "NER tags: {'B-LOC', 'B-MISC', 'I-LOC', 'I-PER', 'O', 'B-ORG', 'B-PER', 'I-ORG', 'I-MISC'}\n",
      "Quantiles of the sentence lengths: [  5.   9.  21. 113.]\n",
      "Number of Input sentences: 14987\n",
      "Number of Label sentences: 14987\n"
     ]
    }
   ],
   "source": [
    "train_file = 'data/conll2003/train.txt'\n",
    "X,y=read_and_process(train_file)"
   ]
  },
  {
   "cell_type": "code",
   "execution_count": 5,
   "id": "8538d02b",
   "metadata": {},
   "outputs": [
    {
     "name": "stdout",
     "output_type": "stream",
     "text": [
      "Number of sentences: 3466\n",
      "Number of NER taggings: 9\n",
      "NER tags: {'B-LOC', 'B-MISC', 'I-LOC', 'I-PER', 'O', 'B-ORG', 'B-PER', 'I-ORG', 'I-MISC'}\n",
      "Quantiles of the sentence lengths: [  5.  10.  23. 109.]\n",
      "Number of Input sentences: 3466\n",
      "Number of Label sentences: 3466\n"
     ]
    }
   ],
   "source": [
    "val_file='data/conll2003/valid.txt'\n",
    "X_val,y_val=read_and_process(val_file)"
   ]
  },
  {
   "cell_type": "markdown",
   "id": "7aec2da1",
   "metadata": {},
   "source": [
    "# Conversion of Both Data into Pandas Data Frames"
   ]
  },
  {
   "cell_type": "markdown",
   "id": "e72d4907",
   "metadata": {},
   "source": [
    "# Training DataFrame"
   ]
  },
  {
   "cell_type": "code",
   "execution_count": 6,
   "id": "e6517093",
   "metadata": {},
   "outputs": [],
   "source": [
    "# Converting the X and y into dataframe to do visualization and preprocessing \n",
    "\n",
    "def create_sentence_dataframe(X, y,j):\n",
    "    sentences = {\n",
    "        'Word': [],\n",
    "        'SentenceID': [],\n",
    "        'Length': [],\n",
    "        'Tag': []\n",
    "    }\n",
    "    \n",
    "    for i, sentence in enumerate(X):\n",
    "        num_words = len(sentence)\n",
    "        sentence_id = f\"Sentence_{j}\"\n",
    "      \n",
    "        sentences['Word'].extend(sentence)\n",
    "        sentences['SentenceID'].extend([sentence_id] * num_words)\n",
    "        sentences['Length'].extend([num_words] * num_words)\n",
    "        sentences['Tag'].extend(y[i])\n",
    "        j=j+1\n",
    "    dataframe=pd.DataFrame(sentences)    \n",
    "    return dataframe"
   ]
  },
  {
   "cell_type": "code",
   "execution_count": 7,
   "id": "fb40ae0b",
   "metadata": {},
   "outputs": [],
   "source": [
    "df_train=create_sentence_dataframe(X,y,j=0)"
   ]
  },
  {
   "cell_type": "code",
   "execution_count": 8,
   "id": "b979db63",
   "metadata": {},
   "outputs": [
    {
     "data": {
      "text/plain": [
       "(204566, 4)"
      ]
     },
     "execution_count": 8,
     "metadata": {},
     "output_type": "execute_result"
    }
   ],
   "source": [
    "df_train.shape"
   ]
  },
  {
   "cell_type": "code",
   "execution_count": 9,
   "id": "2fa83305",
   "metadata": {},
   "outputs": [
    {
     "data": {
      "text/plain": [
       "(14986,)"
      ]
     },
     "execution_count": 9,
     "metadata": {},
     "output_type": "execute_result"
    }
   ],
   "source": [
    "#Number of sentences in training data\n",
    "df_train[\"SentenceID\"].unique().shape"
   ]
  },
  {
   "cell_type": "code",
   "execution_count": 10,
   "id": "8c25f38a",
   "metadata": {},
   "outputs": [
    {
     "data": {
      "text/html": [
       "<div>\n",
       "<style scoped>\n",
       "    .dataframe tbody tr th:only-of-type {\n",
       "        vertical-align: middle;\n",
       "    }\n",
       "\n",
       "    .dataframe tbody tr th {\n",
       "        vertical-align: top;\n",
       "    }\n",
       "\n",
       "    .dataframe thead th {\n",
       "        text-align: right;\n",
       "    }\n",
       "</style>\n",
       "<table border=\"1\" class=\"dataframe\">\n",
       "  <thead>\n",
       "    <tr style=\"text-align: right;\">\n",
       "      <th></th>\n",
       "      <th>Word</th>\n",
       "      <th>SentenceID</th>\n",
       "      <th>Length</th>\n",
       "      <th>Tag</th>\n",
       "    </tr>\n",
       "  </thead>\n",
       "  <tbody>\n",
       "    <tr>\n",
       "      <th>0</th>\n",
       "      <td>EU</td>\n",
       "      <td>Sentence_0</td>\n",
       "      <td>9</td>\n",
       "      <td>B-ORG</td>\n",
       "    </tr>\n",
       "    <tr>\n",
       "      <th>1</th>\n",
       "      <td>rejects</td>\n",
       "      <td>Sentence_0</td>\n",
       "      <td>9</td>\n",
       "      <td>O</td>\n",
       "    </tr>\n",
       "    <tr>\n",
       "      <th>2</th>\n",
       "      <td>German</td>\n",
       "      <td>Sentence_0</td>\n",
       "      <td>9</td>\n",
       "      <td>B-MISC</td>\n",
       "    </tr>\n",
       "    <tr>\n",
       "      <th>3</th>\n",
       "      <td>call</td>\n",
       "      <td>Sentence_0</td>\n",
       "      <td>9</td>\n",
       "      <td>O</td>\n",
       "    </tr>\n",
       "    <tr>\n",
       "      <th>4</th>\n",
       "      <td>to</td>\n",
       "      <td>Sentence_0</td>\n",
       "      <td>9</td>\n",
       "      <td>O</td>\n",
       "    </tr>\n",
       "    <tr>\n",
       "      <th>5</th>\n",
       "      <td>boycott</td>\n",
       "      <td>Sentence_0</td>\n",
       "      <td>9</td>\n",
       "      <td>O</td>\n",
       "    </tr>\n",
       "    <tr>\n",
       "      <th>6</th>\n",
       "      <td>British</td>\n",
       "      <td>Sentence_0</td>\n",
       "      <td>9</td>\n",
       "      <td>B-MISC</td>\n",
       "    </tr>\n",
       "    <tr>\n",
       "      <th>7</th>\n",
       "      <td>lamb</td>\n",
       "      <td>Sentence_0</td>\n",
       "      <td>9</td>\n",
       "      <td>O</td>\n",
       "    </tr>\n",
       "    <tr>\n",
       "      <th>8</th>\n",
       "      <td>.</td>\n",
       "      <td>Sentence_0</td>\n",
       "      <td>9</td>\n",
       "      <td>O</td>\n",
       "    </tr>\n",
       "    <tr>\n",
       "      <th>9</th>\n",
       "      <td>Peter</td>\n",
       "      <td>Sentence_1</td>\n",
       "      <td>2</td>\n",
       "      <td>B-PER</td>\n",
       "    </tr>\n",
       "  </tbody>\n",
       "</table>\n",
       "</div>"
      ],
      "text/plain": [
       "      Word  SentenceID  Length     Tag\n",
       "0       EU  Sentence_0       9   B-ORG\n",
       "1  rejects  Sentence_0       9       O\n",
       "2   German  Sentence_0       9  B-MISC\n",
       "3     call  Sentence_0       9       O\n",
       "4       to  Sentence_0       9       O\n",
       "5  boycott  Sentence_0       9       O\n",
       "6  British  Sentence_0       9  B-MISC\n",
       "7     lamb  Sentence_0       9       O\n",
       "8        .  Sentence_0       9       O\n",
       "9    Peter  Sentence_1       2   B-PER"
      ]
     },
     "execution_count": 10,
     "metadata": {},
     "output_type": "execute_result"
    }
   ],
   "source": [
    "df_train.head(10)"
   ]
  },
  {
   "cell_type": "markdown",
   "id": "e9f2c22b",
   "metadata": {},
   "source": [
    "# Validation DataFrame"
   ]
  },
  {
   "cell_type": "code",
   "execution_count": 11,
   "id": "f0d9a9c7",
   "metadata": {},
   "outputs": [
    {
     "data": {
      "text/plain": [
       "(51577, 4)"
      ]
     },
     "execution_count": 11,
     "metadata": {},
     "output_type": "execute_result"
    }
   ],
   "source": [
    "# number of unique sentence IDs in the training data.\n",
    "j=df_train[\"SentenceID\"].unique().shape[0]\n",
    "\n",
    "df_val=create_sentence_dataframe(X_val, y_val,j)\n",
    "df_val.shape"
   ]
  },
  {
   "cell_type": "code",
   "execution_count": 12,
   "id": "4b92977e",
   "metadata": {},
   "outputs": [
    {
     "data": {
      "text/plain": [
       "(3465,)"
      ]
     },
     "execution_count": 12,
     "metadata": {},
     "output_type": "execute_result"
    }
   ],
   "source": [
    "df_val[\"SentenceID\"].unique().shape"
   ]
  },
  {
   "cell_type": "code",
   "execution_count": 13,
   "id": "f6b3b39f",
   "metadata": {},
   "outputs": [
    {
     "data": {
      "text/html": [
       "<div>\n",
       "<style scoped>\n",
       "    .dataframe tbody tr th:only-of-type {\n",
       "        vertical-align: middle;\n",
       "    }\n",
       "\n",
       "    .dataframe tbody tr th {\n",
       "        vertical-align: top;\n",
       "    }\n",
       "\n",
       "    .dataframe thead th {\n",
       "        text-align: right;\n",
       "    }\n",
       "</style>\n",
       "<table border=\"1\" class=\"dataframe\">\n",
       "  <thead>\n",
       "    <tr style=\"text-align: right;\">\n",
       "      <th></th>\n",
       "      <th>Word</th>\n",
       "      <th>SentenceID</th>\n",
       "      <th>Length</th>\n",
       "      <th>Tag</th>\n",
       "    </tr>\n",
       "  </thead>\n",
       "  <tbody>\n",
       "    <tr>\n",
       "      <th>0</th>\n",
       "      <td>CRICKET</td>\n",
       "      <td>Sentence_14986</td>\n",
       "      <td>11</td>\n",
       "      <td>O</td>\n",
       "    </tr>\n",
       "    <tr>\n",
       "      <th>1</th>\n",
       "      <td>-</td>\n",
       "      <td>Sentence_14986</td>\n",
       "      <td>11</td>\n",
       "      <td>O</td>\n",
       "    </tr>\n",
       "    <tr>\n",
       "      <th>2</th>\n",
       "      <td>LEICESTERSHIRE</td>\n",
       "      <td>Sentence_14986</td>\n",
       "      <td>11</td>\n",
       "      <td>B-ORG</td>\n",
       "    </tr>\n",
       "    <tr>\n",
       "      <th>3</th>\n",
       "      <td>TAKE</td>\n",
       "      <td>Sentence_14986</td>\n",
       "      <td>11</td>\n",
       "      <td>O</td>\n",
       "    </tr>\n",
       "    <tr>\n",
       "      <th>4</th>\n",
       "      <td>OVER</td>\n",
       "      <td>Sentence_14986</td>\n",
       "      <td>11</td>\n",
       "      <td>O</td>\n",
       "    </tr>\n",
       "    <tr>\n",
       "      <th>5</th>\n",
       "      <td>AT</td>\n",
       "      <td>Sentence_14986</td>\n",
       "      <td>11</td>\n",
       "      <td>O</td>\n",
       "    </tr>\n",
       "    <tr>\n",
       "      <th>6</th>\n",
       "      <td>TOP</td>\n",
       "      <td>Sentence_14986</td>\n",
       "      <td>11</td>\n",
       "      <td>O</td>\n",
       "    </tr>\n",
       "    <tr>\n",
       "      <th>7</th>\n",
       "      <td>AFTER</td>\n",
       "      <td>Sentence_14986</td>\n",
       "      <td>11</td>\n",
       "      <td>O</td>\n",
       "    </tr>\n",
       "    <tr>\n",
       "      <th>8</th>\n",
       "      <td>INNINGS</td>\n",
       "      <td>Sentence_14986</td>\n",
       "      <td>11</td>\n",
       "      <td>O</td>\n",
       "    </tr>\n",
       "    <tr>\n",
       "      <th>9</th>\n",
       "      <td>VICTORY</td>\n",
       "      <td>Sentence_14986</td>\n",
       "      <td>11</td>\n",
       "      <td>O</td>\n",
       "    </tr>\n",
       "  </tbody>\n",
       "</table>\n",
       "</div>"
      ],
      "text/plain": [
       "             Word      SentenceID  Length    Tag\n",
       "0         CRICKET  Sentence_14986      11      O\n",
       "1               -  Sentence_14986      11      O\n",
       "2  LEICESTERSHIRE  Sentence_14986      11  B-ORG\n",
       "3            TAKE  Sentence_14986      11      O\n",
       "4            OVER  Sentence_14986      11      O\n",
       "5              AT  Sentence_14986      11      O\n",
       "6             TOP  Sentence_14986      11      O\n",
       "7           AFTER  Sentence_14986      11      O\n",
       "8         INNINGS  Sentence_14986      11      O\n",
       "9         VICTORY  Sentence_14986      11      O"
      ]
     },
     "execution_count": 13,
     "metadata": {},
     "output_type": "execute_result"
    }
   ],
   "source": [
    "df_val.head(10)"
   ]
  },
  {
   "cell_type": "markdown",
   "id": "6f0c54d2",
   "metadata": {},
   "source": [
    "# Importing Test Data"
   ]
  },
  {
   "cell_type": "code",
   "execution_count": 14,
   "id": "0be970fa",
   "metadata": {},
   "outputs": [
    {
     "name": "stdout",
     "output_type": "stream",
     "text": [
      "Number of sentences: 3684\n",
      "Number of NER taggings: 9\n",
      "NER tags: {'B-LOC', 'B-MISC', 'I-PER', 'O', 'B-ORG', 'B-PER', 'I-MISC', 'I-ORG', 'I-LOC'}\n",
      "Quantiles of the sentence lengths: [  5.   8.  19. 124.]\n",
      "Number of Input sentences: 3684\n",
      "Number of Label sentences: 3684\n"
     ]
    },
    {
     "data": {
      "text/plain": [
       "(46665, 4)"
      ]
     },
     "execution_count": 14,
     "metadata": {},
     "output_type": "execute_result"
    }
   ],
   "source": [
    "test_file='data/conll2003/test.txt'\n",
    "#Read and get some statistics about Test data\n",
    "X_test,y_test=read_and_process(test_file)  \n",
    "#sum of the number of unique sentence IDs in both the training and validation data\n",
    "j=df_train[\"SentenceID\"].unique().shape[0]+df_val[\"SentenceID\"].unique().shape[0]\n",
    "#convert into pandas data frame and get shape\n",
    "df_test=create_sentence_dataframe(X_test, y_test,j)\n",
    "df_test.shape"
   ]
  },
  {
   "cell_type": "code",
   "execution_count": 15,
   "id": "dc877437",
   "metadata": {},
   "outputs": [
    {
     "data": {
      "text/plain": [
       "(3683,)"
      ]
     },
     "execution_count": 15,
     "metadata": {},
     "output_type": "execute_result"
    }
   ],
   "source": [
    "# Test data contains 3683 unique sentences\n",
    "df_test[\"SentenceID\"].unique().shape "
   ]
  },
  {
   "cell_type": "code",
   "execution_count": 16,
   "id": "cf776bfc",
   "metadata": {},
   "outputs": [
    {
     "data": {
      "text/html": [
       "<div>\n",
       "<style scoped>\n",
       "    .dataframe tbody tr th:only-of-type {\n",
       "        vertical-align: middle;\n",
       "    }\n",
       "\n",
       "    .dataframe tbody tr th {\n",
       "        vertical-align: top;\n",
       "    }\n",
       "\n",
       "    .dataframe thead th {\n",
       "        text-align: right;\n",
       "    }\n",
       "</style>\n",
       "<table border=\"1\" class=\"dataframe\">\n",
       "  <thead>\n",
       "    <tr style=\"text-align: right;\">\n",
       "      <th></th>\n",
       "      <th>Word</th>\n",
       "      <th>SentenceID</th>\n",
       "      <th>Length</th>\n",
       "      <th>Tag</th>\n",
       "    </tr>\n",
       "  </thead>\n",
       "  <tbody>\n",
       "    <tr>\n",
       "      <th>0</th>\n",
       "      <td>SOCCER</td>\n",
       "      <td>Sentence_18451</td>\n",
       "      <td>12</td>\n",
       "      <td>O</td>\n",
       "    </tr>\n",
       "    <tr>\n",
       "      <th>1</th>\n",
       "      <td>-</td>\n",
       "      <td>Sentence_18451</td>\n",
       "      <td>12</td>\n",
       "      <td>O</td>\n",
       "    </tr>\n",
       "    <tr>\n",
       "      <th>2</th>\n",
       "      <td>JAPAN</td>\n",
       "      <td>Sentence_18451</td>\n",
       "      <td>12</td>\n",
       "      <td>B-LOC</td>\n",
       "    </tr>\n",
       "    <tr>\n",
       "      <th>3</th>\n",
       "      <td>GET</td>\n",
       "      <td>Sentence_18451</td>\n",
       "      <td>12</td>\n",
       "      <td>O</td>\n",
       "    </tr>\n",
       "    <tr>\n",
       "      <th>4</th>\n",
       "      <td>LUCKY</td>\n",
       "      <td>Sentence_18451</td>\n",
       "      <td>12</td>\n",
       "      <td>O</td>\n",
       "    </tr>\n",
       "    <tr>\n",
       "      <th>5</th>\n",
       "      <td>WIN</td>\n",
       "      <td>Sentence_18451</td>\n",
       "      <td>12</td>\n",
       "      <td>O</td>\n",
       "    </tr>\n",
       "    <tr>\n",
       "      <th>6</th>\n",
       "      <td>,</td>\n",
       "      <td>Sentence_18451</td>\n",
       "      <td>12</td>\n",
       "      <td>O</td>\n",
       "    </tr>\n",
       "    <tr>\n",
       "      <th>7</th>\n",
       "      <td>CHINA</td>\n",
       "      <td>Sentence_18451</td>\n",
       "      <td>12</td>\n",
       "      <td>B-PER</td>\n",
       "    </tr>\n",
       "    <tr>\n",
       "      <th>8</th>\n",
       "      <td>IN</td>\n",
       "      <td>Sentence_18451</td>\n",
       "      <td>12</td>\n",
       "      <td>O</td>\n",
       "    </tr>\n",
       "    <tr>\n",
       "      <th>9</th>\n",
       "      <td>SURPRISE</td>\n",
       "      <td>Sentence_18451</td>\n",
       "      <td>12</td>\n",
       "      <td>O</td>\n",
       "    </tr>\n",
       "  </tbody>\n",
       "</table>\n",
       "</div>"
      ],
      "text/plain": [
       "       Word      SentenceID  Length    Tag\n",
       "0    SOCCER  Sentence_18451      12      O\n",
       "1         -  Sentence_18451      12      O\n",
       "2     JAPAN  Sentence_18451      12  B-LOC\n",
       "3       GET  Sentence_18451      12      O\n",
       "4     LUCKY  Sentence_18451      12      O\n",
       "5       WIN  Sentence_18451      12      O\n",
       "6         ,  Sentence_18451      12      O\n",
       "7     CHINA  Sentence_18451      12  B-PER\n",
       "8        IN  Sentence_18451      12      O\n",
       "9  SURPRISE  Sentence_18451      12      O"
      ]
     },
     "execution_count": 16,
     "metadata": {},
     "output_type": "execute_result"
    }
   ],
   "source": [
    "df_test.head(10)"
   ]
  },
  {
   "cell_type": "markdown",
   "id": "38e45b3e",
   "metadata": {},
   "source": [
    "# Combining all Dataframes to perform id's mapping and data visualization"
   ]
  },
  {
   "cell_type": "code",
   "execution_count": 17,
   "id": "20aad8f2",
   "metadata": {},
   "outputs": [
    {
     "data": {
      "text/html": [
       "<div>\n",
       "<style scoped>\n",
       "    .dataframe tbody tr th:only-of-type {\n",
       "        vertical-align: middle;\n",
       "    }\n",
       "\n",
       "    .dataframe tbody tr th {\n",
       "        vertical-align: top;\n",
       "    }\n",
       "\n",
       "    .dataframe thead th {\n",
       "        text-align: right;\n",
       "    }\n",
       "</style>\n",
       "<table border=\"1\" class=\"dataframe\">\n",
       "  <thead>\n",
       "    <tr style=\"text-align: right;\">\n",
       "      <th></th>\n",
       "      <th>Word</th>\n",
       "      <th>SentenceID</th>\n",
       "      <th>Length</th>\n",
       "      <th>Tag</th>\n",
       "    </tr>\n",
       "  </thead>\n",
       "  <tbody>\n",
       "    <tr>\n",
       "      <th>0</th>\n",
       "      <td>EU</td>\n",
       "      <td>Sentence_0</td>\n",
       "      <td>9</td>\n",
       "      <td>B-ORG</td>\n",
       "    </tr>\n",
       "    <tr>\n",
       "      <th>1</th>\n",
       "      <td>rejects</td>\n",
       "      <td>Sentence_0</td>\n",
       "      <td>9</td>\n",
       "      <td>O</td>\n",
       "    </tr>\n",
       "    <tr>\n",
       "      <th>2</th>\n",
       "      <td>German</td>\n",
       "      <td>Sentence_0</td>\n",
       "      <td>9</td>\n",
       "      <td>B-MISC</td>\n",
       "    </tr>\n",
       "    <tr>\n",
       "      <th>3</th>\n",
       "      <td>call</td>\n",
       "      <td>Sentence_0</td>\n",
       "      <td>9</td>\n",
       "      <td>O</td>\n",
       "    </tr>\n",
       "    <tr>\n",
       "      <th>4</th>\n",
       "      <td>to</td>\n",
       "      <td>Sentence_0</td>\n",
       "      <td>9</td>\n",
       "      <td>O</td>\n",
       "    </tr>\n",
       "    <tr>\n",
       "      <th>5</th>\n",
       "      <td>boycott</td>\n",
       "      <td>Sentence_0</td>\n",
       "      <td>9</td>\n",
       "      <td>O</td>\n",
       "    </tr>\n",
       "    <tr>\n",
       "      <th>6</th>\n",
       "      <td>British</td>\n",
       "      <td>Sentence_0</td>\n",
       "      <td>9</td>\n",
       "      <td>B-MISC</td>\n",
       "    </tr>\n",
       "    <tr>\n",
       "      <th>7</th>\n",
       "      <td>lamb</td>\n",
       "      <td>Sentence_0</td>\n",
       "      <td>9</td>\n",
       "      <td>O</td>\n",
       "    </tr>\n",
       "    <tr>\n",
       "      <th>8</th>\n",
       "      <td>.</td>\n",
       "      <td>Sentence_0</td>\n",
       "      <td>9</td>\n",
       "      <td>O</td>\n",
       "    </tr>\n",
       "    <tr>\n",
       "      <th>9</th>\n",
       "      <td>Peter</td>\n",
       "      <td>Sentence_1</td>\n",
       "      <td>2</td>\n",
       "      <td>B-PER</td>\n",
       "    </tr>\n",
       "  </tbody>\n",
       "</table>\n",
       "</div>"
      ],
      "text/plain": [
       "      Word  SentenceID  Length     Tag\n",
       "0       EU  Sentence_0       9   B-ORG\n",
       "1  rejects  Sentence_0       9       O\n",
       "2   German  Sentence_0       9  B-MISC\n",
       "3     call  Sentence_0       9       O\n",
       "4       to  Sentence_0       9       O\n",
       "5  boycott  Sentence_0       9       O\n",
       "6  British  Sentence_0       9  B-MISC\n",
       "7     lamb  Sentence_0       9       O\n",
       "8        .  Sentence_0       9       O\n",
       "9    Peter  Sentence_1       2   B-PER"
      ]
     },
     "execution_count": 17,
     "metadata": {},
     "output_type": "execute_result"
    }
   ],
   "source": [
    "# Combining training, validation,test data into a single df\n",
    "df = pd.concat([df_train, df_val,df_test], axis=0)\n",
    "df.head(10)"
   ]
  },
  {
   "cell_type": "code",
   "execution_count": 18,
   "id": "ec3569c8",
   "metadata": {},
   "outputs": [
    {
     "data": {
      "image/png": "[encoded data removed]",
      "text/plain": [
       "<Figure size 640x480 with 1 Axes>"
      ]
     },
     "metadata": {},
     "output_type": "display_data"
    }
   ],
   "source": [
    "# Visualization of NER tags \n",
    "colors = ['blue', 'green', 'orange']\n",
    "category_counts = df[df['Tag']!=\"O\"]['Tag'].value_counts()\n",
    "plt.bar(category_counts.index, category_counts.values,color=colors)\n",
    "\n",
    "# Add the values on top of the bars\n",
    "for i, v in enumerate(category_counts.values):\n",
    "    plt.text(i, v, str(v), ha='center', va='bottom')\n",
    "    \n",
    "plt.xlabel('Tag')\n",
    "plt.ylabel('No of instances')\n",
    "plt.title('Plot for occurence of diffrent tags ')\n",
    "plt.xticks(rotation=45)\n",
    "plt.show()"
   ]
  },
  {
   "cell_type": "markdown",
   "id": "be2055e6",
   "metadata": {},
   "source": [
    "# Convert Words into integer-encoded sequences using Text Vectorization "
   ]
  },
  {
   "cell_type": "code",
   "execution_count": 19,
   "id": "00fa9b68",
   "metadata": {},
   "outputs": [],
   "source": [
    "#the maximum length of the sentences in the training data\n",
    "maxlength=df[\"Length\"].max()\n",
    "\n",
    "vectorize_layer = tf.keras.layers.TextVectorization(\n",
    "    max_tokens=None,\n",
    "    output_mode='int',\n",
    "    output_sequence_length=int(maxlength),\n",
    "    standardize=None)"
   ]
  },
  {
   "cell_type": "code",
   "execution_count": 20,
   "id": "1219eeb8",
   "metadata": {},
   "outputs": [],
   "source": [
    "# build the vocabulary based on unique words of all data\n",
    "vectorize_layer.adapt(np.array(df['Word'])) "
   ]
  },
  {
   "cell_type": "code",
   "execution_count": 21,
   "id": "ea141db3",
   "metadata": {},
   "outputs": [
    {
     "name": "stdout",
     "output_type": "stream",
     "text": [
      "Vocabulary size: 30292\n",
      "Vocabulary excerpt: ['', '[UNK]', ',', '.', 'the', 'of', 'in', 'to', 'a', '(', ')', 'and', '\"', 'on', 'said', \"'s\", 'for', '-', '1', 'The', 'was', '-DOCSTART-', 'at', '2', '3', '0', 'with', 'that', 'from', 'by']\n"
     ]
    }
   ],
   "source": [
    "#retrieve the vocabulary and its size from the vectorize_layer\n",
    "vocabulary = vectorize_layer.get_vocabulary()\n",
    "vocab_size = vectorize_layer.vocabulary_size()\n",
    "print(\"Vocabulary size:\", len(vocabulary))\n",
    "print(\"Vocabulary excerpt:\", vocabulary[:30])"
   ]
  },
  {
   "cell_type": "code",
   "execution_count": 22,
   "id": "492efe7e",
   "metadata": {},
   "outputs": [],
   "source": [
    "## Our data was one word per row , now we are converting it into one sentence per row \n",
    "df_train = df_train.groupby('SentenceID',sort=False).agg({'Word': ' '.join, 'Tag': ' '.join}).reset_index()\n",
    "df_val = df_val.groupby('SentenceID',sort=False).agg({'Word': ' '.join, 'Tag': ' '.join}).reset_index()\n",
    "df_test = df_test.groupby('SentenceID',sort=False).agg({'Word': ' '.join, 'Tag': ' '.join}).reset_index()"
   ]
  },
  {
   "cell_type": "code",
   "execution_count": 23,
   "id": "535bb68b",
   "metadata": {},
   "outputs": [
    {
     "data": {
      "text/html": [
       "<div>\n",
       "<style scoped>\n",
       "    .dataframe tbody tr th:only-of-type {\n",
       "        vertical-align: middle;\n",
       "    }\n",
       "\n",
       "    .dataframe tbody tr th {\n",
       "        vertical-align: top;\n",
       "    }\n",
       "\n",
       "    .dataframe thead th {\n",
       "        text-align: right;\n",
       "    }\n",
       "</style>\n",
       "<table border=\"1\" class=\"dataframe\">\n",
       "  <thead>\n",
       "    <tr style=\"text-align: right;\">\n",
       "      <th></th>\n",
       "      <th>SentenceID</th>\n",
       "      <th>Word</th>\n",
       "      <th>Tag</th>\n",
       "    </tr>\n",
       "  </thead>\n",
       "  <tbody>\n",
       "    <tr>\n",
       "      <th>0</th>\n",
       "      <td>Sentence_0</td>\n",
       "      <td>EU rejects German call to boycott British lamb .</td>\n",
       "      <td>B-ORG O B-MISC O O O B-MISC O O</td>\n",
       "    </tr>\n",
       "    <tr>\n",
       "      <th>1</th>\n",
       "      <td>Sentence_1</td>\n",
       "      <td>Peter Blackburn</td>\n",
       "      <td>B-PER I-PER</td>\n",
       "    </tr>\n",
       "    <tr>\n",
       "      <th>2</th>\n",
       "      <td>Sentence_2</td>\n",
       "      <td>BRUSSELS 1996-08-22</td>\n",
       "      <td>B-LOC O</td>\n",
       "    </tr>\n",
       "    <tr>\n",
       "      <th>3</th>\n",
       "      <td>Sentence_3</td>\n",
       "      <td>The European Commission said on Thursday it di...</td>\n",
       "      <td>O B-ORG I-ORG O O O O O O B-MISC O O O O O B-M...</td>\n",
       "    </tr>\n",
       "    <tr>\n",
       "      <th>4</th>\n",
       "      <td>Sentence_4</td>\n",
       "      <td>Germany 's representative to the European Unio...</td>\n",
       "      <td>B-LOC O O O O B-ORG I-ORG O O O B-PER I-PER O ...</td>\n",
       "    </tr>\n",
       "  </tbody>\n",
       "</table>\n",
       "</div>"
      ],
      "text/plain": [
       "   SentenceID                                               Word  \\\n",
       "0  Sentence_0   EU rejects German call to boycott British lamb .   \n",
       "1  Sentence_1                                    Peter Blackburn   \n",
       "2  Sentence_2                                BRUSSELS 1996-08-22   \n",
       "3  Sentence_3  The European Commission said on Thursday it di...   \n",
       "4  Sentence_4  Germany 's representative to the European Unio...   \n",
       "\n",
       "                                                 Tag  \n",
       "0                    B-ORG O B-MISC O O O B-MISC O O  \n",
       "1                                        B-PER I-PER  \n",
       "2                                            B-LOC O  \n",
       "3  O B-ORG I-ORG O O O O O O B-MISC O O O O O B-M...  \n",
       "4  B-LOC O O O O B-ORG I-ORG O O O B-PER I-PER O ...  "
      ]
     },
     "execution_count": 23,
     "metadata": {},
     "output_type": "execute_result"
    }
   ],
   "source": [
    "df_train.head()"
   ]
  },
  {
   "cell_type": "code",
   "execution_count": 24,
   "id": "4377c25d",
   "metadata": {},
   "outputs": [],
   "source": [
    "# Vectorizing i.e converting training , validation and testing word sequences into integer-encoded sequences\n",
    "X_train = vectorize_layer(df_train['Word'])\n",
    "X_val = vectorize_layer(df_val['Word'])\n",
    "X_test = vectorize_layer(df_test['Word'])\n"
   ]
  },
  {
   "cell_type": "code",
   "execution_count": 25,
   "id": "6ba45532",
   "metadata": {
    "scrolled": true
   },
   "outputs": [
    {
     "name": "stdout",
     "output_type": "stream",
     "text": [
      "EU rejects German call to boycott British lamb .\n",
      "\n",
      "Encoded sequence:  tf.Tensor(\n",
      "[ 1071 11140   241   840     7  4025   232  8775     3     0     0     0\n",
      "     0     0     0     0     0     0     0     0     0     0     0     0\n",
      "     0     0     0     0     0     0     0     0     0     0     0     0\n",
      "     0     0     0     0     0     0     0     0     0     0     0     0\n",
      "     0     0     0     0     0     0     0     0     0     0     0     0\n",
      "     0     0     0     0     0     0     0     0     0     0     0     0\n",
      "     0     0     0     0     0     0     0     0     0     0     0     0\n",
      "     0     0     0     0     0     0     0     0     0     0     0     0\n",
      "     0     0     0     0     0     0     0     0     0     0     0     0\n",
      "     0     0     0     0     0     0     0     0     0     0     0     0\n",
      "     0     0     0     0], shape=(124,), dtype=int64)\n"
     ]
    }
   ],
   "source": [
    "#print to verify what could be the integer encoded sequence for first training sentence\n",
    "print(df_train[\"Word\"][0])\n",
    "print(\"\\nEncoded sequence: \", X_train[0])"
   ]
  },
  {
   "cell_type": "markdown",
   "id": "7a22c435",
   "metadata": {},
   "source": [
    "# Convert Tags into integer-encoded sequences using Text Vectorization "
   ]
  },
  {
   "cell_type": "code",
   "execution_count": 26,
   "id": "96e4c819",
   "metadata": {},
   "outputs": [],
   "source": [
    "# Building vectorizer for tags/target i.e to vectorize the tag sequences\n",
    "vectorize_layer_tags = tf.keras.layers.TextVectorization(\n",
    "    max_tokens=None,\n",
    "    output_mode='int',\n",
    "    output_sequence_length=int(maxlength),\n",
    "    standardize=None)"
   ]
  },
  {
   "cell_type": "code",
   "execution_count": 27,
   "id": "1ffdb953",
   "metadata": {},
   "outputs": [
    {
     "name": "stdout",
     "output_type": "stream",
     "text": [
      "Tags size: 11\n",
      "Tags excerpt: ['', '[UNK]', 'O', 'B-LOC', 'B-PER', 'B-ORG', 'I-PER', 'I-ORG', 'B-MISC', 'I-MISC', 'I-LOC']\n"
     ]
    }
   ],
   "source": [
    "#analyze the tag data and build its internal vocabulary based on the unique tags present in the data.\n",
    "vectorize_layer_tags.adapt(np.array(df['Tag'])) \n",
    "\n",
    "vocabulary_tag = vectorize_layer_tags.get_vocabulary()\n",
    "vocab_tag_size = vectorize_layer_tags.vocabulary_size()\n",
    "print(\"Tags size:\", len(vocabulary_tag))\n",
    "print(\"Tags excerpt:\", vocabulary_tag[:30])"
   ]
  },
  {
   "cell_type": "code",
   "execution_count": 28,
   "id": "bfcea620",
   "metadata": {},
   "outputs": [],
   "source": [
    "# Converting output tags into integer-encoded sequences \n",
    "y_train = vectorize_layer_tags(df_train['Tag'])\n",
    "y_val = vectorize_layer_tags(df_val['Tag'])\n",
    "y_test = vectorize_layer_tags(df_test['Tag'])"
   ]
  },
  {
   "cell_type": "code",
   "execution_count": 29,
   "id": "70f352f1",
   "metadata": {},
   "outputs": [
    {
     "name": "stdout",
     "output_type": "stream",
     "text": [
      "Original sentence:  EU rejects German call to boycott British lamb .\n",
      "Tags sequence:  B-ORG O B-MISC O O O B-MISC O O\n",
      "\n",
      "Encoded sequence for tag:  tf.Tensor(\n",
      "[5 2 8 2 2 2 8 2 2 0 0 0 0 0 0 0 0 0 0 0 0 0 0 0 0 0 0 0 0 0 0 0 0 0 0 0 0\n",
      " 0 0 0 0 0 0 0 0 0 0 0 0 0 0 0 0 0 0 0 0 0 0 0 0 0 0 0 0 0 0 0 0 0 0 0 0 0\n",
      " 0 0 0 0 0 0 0 0 0 0 0 0 0 0 0 0 0 0 0 0 0 0 0 0 0 0 0 0 0 0 0 0 0 0 0 0 0\n",
      " 0 0 0 0 0 0 0 0 0 0 0 0 0], shape=(124,), dtype=int64)\n"
     ]
    }
   ],
   "source": [
    "#print to verify what could be the integer encoded sequence for first training sentence\n",
    "# Following sentence, each tag has a unique integer value like 0= 2, B-MISC=8\n",
    "print(\"Original sentence: \",df_train[\"Word\"][0] )\n",
    "print(\"Tags sequence: \",df_train[\"Tag\"][0])\n",
    "print(\"\\nEncoded sequence for tag: \", y_train[0])"
   ]
  },
  {
   "cell_type": "markdown",
   "id": "c54bbf2a",
   "metadata": {},
   "source": [
    "# Preparing Target Data"
   ]
  },
  {
   "cell_type": "code",
   "execution_count": 30,
   "id": "00dad80c",
   "metadata": {},
   "outputs": [],
   "source": [
    "# one hot encoding of target tags so that model can learn and predict each Tag category independently\n",
    "y_train = to_categorical(y_train.numpy(), num_classes=vocab_tag_size)\n",
    "y_val = to_categorical(y_val.numpy(), num_classes=vocab_tag_size)\n",
    "y_test = to_categorical(y_test.numpy(), num_classes=vocab_tag_size)"
   ]
  },
  {
   "cell_type": "code",
   "execution_count": 31,
   "id": "c5410f9d",
   "metadata": {},
   "outputs": [
    {
     "name": "stdout",
     "output_type": "stream",
     "text": [
      "[[0. 0. 0. ... 0. 0. 0.]\n",
      " [0. 0. 1. ... 0. 0. 0.]\n",
      " [0. 0. 0. ... 1. 0. 0.]\n",
      " ...\n",
      " [1. 0. 0. ... 0. 0. 0.]\n",
      " [1. 0. 0. ... 0. 0. 0.]\n",
      " [1. 0. 0. ... 0. 0. 0.]]\n"
     ]
    }
   ],
   "source": [
    "print(y_train[0])"
   ]
  },
  {
   "cell_type": "code",
   "execution_count": 32,
   "id": "1f83edc8",
   "metadata": {},
   "outputs": [
    {
     "data": {
      "text/plain": [
       "(14986, 124, 11)"
      ]
     },
     "execution_count": 32,
     "metadata": {},
     "output_type": "execute_result"
    }
   ],
   "source": [
    "y_train.shape"
   ]
  },
  {
   "cell_type": "code",
   "execution_count": 33,
   "id": "f4d9c75d",
   "metadata": {},
   "outputs": [
    {
     "data": {
      "text/plain": [
       "(3465, 124, 11)"
      ]
     },
     "execution_count": 33,
     "metadata": {},
     "output_type": "execute_result"
    }
   ],
   "source": [
    "y_val.shape"
   ]
  },
  {
   "cell_type": "code",
   "execution_count": 34,
   "id": "23a8ed31",
   "metadata": {},
   "outputs": [
    {
     "data": {
      "text/plain": [
       "(3683, 124, 11)"
      ]
     },
     "execution_count": 34,
     "metadata": {},
     "output_type": "execute_result"
    }
   ],
   "source": [
    "y_test.shape"
   ]
  },
  {
   "cell_type": "markdown",
   "id": "64567732",
   "metadata": {},
   "source": [
    "# Build an LSTM based Model with Prepared Data"
   ]
  },
  {
   "cell_type": "code",
   "execution_count": 35,
   "id": "761f451c",
   "metadata": {},
   "outputs": [
    {
     "name": "stdout",
     "output_type": "stream",
     "text": [
      "Model: \"sequential\"\n",
      "_________________________________________________________________\n",
      " Layer (type)                Output Shape              Param #   \n",
      "=================================================================\n",
      " embedding (Embedding)       (None, 124, 150)          4543800   \n",
      "                                                                 \n",
      " bidirectional (Bidirectiona  (None, 124, 120)         101280    \n",
      " l)                                                              \n",
      "                                                                 \n",
      " dropout (Dropout)           (None, 124, 120)          0         \n",
      "                                                                 \n",
      " lstm_1 (LSTM)               (None, 124, 60)           43440     \n",
      "                                                                 \n",
      " dropout_1 (Dropout)         (None, 124, 60)           0         \n",
      "                                                                 \n",
      " dense (Dense)               (None, 124, 11)           671       \n",
      "                                                                 \n",
      "=================================================================\n",
      "Total params: 4,689,191\n",
      "Trainable params: 4,689,191\n",
      "Non-trainable params: 0\n",
      "_________________________________________________________________\n"
     ]
    }
   ],
   "source": [
    "num_classes=11\n",
    "embedding_size = 150\n",
    "\n",
    "model = Sequential()\n",
    "# Embedding layer takes the input sequence of integers to convert it into a dense vector representation\n",
    "model.add(Embedding(input_dim=vocab_size, output_dim=embedding_size, input_length=X_train.shape[1]))\n",
    "model.add(Bidirectional(LSTM(units=60, return_sequences=True)))\n",
    "# Adding a dropout layer to prevent overfitting\n",
    "model.add(Dropout(0.2)) \n",
    "model.add(LSTM(units=60, return_sequences=True))\n",
    "model.add(Dropout(0.2))\n",
    "# To get output probabilities for each of the 11 classes.\n",
    "model.add(Dense(units=num_classes, activation='softmax'))\n",
    "model.summary()"
   ]
  },
  {
   "cell_type": "code",
   "execution_count": 36,
   "id": "8fff6e77",
   "metadata": {},
   "outputs": [],
   "source": [
    "# Compiling our model as it is multi-class, we will use categorical cross entropy as loss function\n",
    "model.compile(optimizer='adam', loss='categorical_crossentropy', metrics=['accuracy', Precision()])"
   ]
  },
  {
   "cell_type": "code",
   "execution_count": 37,
   "id": "619b2ecc",
   "metadata": {},
   "outputs": [
    {
     "name": "stdout",
     "output_type": "stream",
     "text": [
      "Epoch 1/4\n",
      "469/469 [==============================] - 178s 357ms/step - loss: 0.1448 - accuracy: 0.9714 - precision: 0.9820 - val_loss: 0.0763 - val_accuracy: 0.9799 - val_precision: 0.9844\n",
      "Epoch 2/4\n",
      "469/469 [==============================] - 159s 340ms/step - loss: 0.0425 - accuracy: 0.9869 - precision: 0.9966 - val_loss: 0.0326 - val_accuracy: 0.9907 - val_precision: 0.9963\n",
      "Epoch 3/4\n",
      "469/469 [==============================] - 171s 364ms/step - loss: 0.0161 - accuracy: 0.9954 - precision: 0.9983 - val_loss: 0.0255 - val_accuracy: 0.9937 - val_precision: 0.9952\n",
      "Epoch 4/4\n",
      "469/469 [==============================] - 170s 362ms/step - loss: 0.0068 - accuracy: 0.9984 - precision: 0.9989 - val_loss: 0.0242 - val_accuracy: 0.9941 - val_precision: 0.9949\n"
     ]
    }
   ],
   "source": [
    "# Training our model upto 4 epochs and storing the training history \n",
    "history=model.fit(X_train, y_train, validation_data=(X_val, y_val), epochs=4)\n"
   ]
  },
  {
   "cell_type": "code",
   "execution_count": 38,
   "id": "37e3d4e4",
   "metadata": {},
   "outputs": [
    {
     "data": {
      "image/png": "[encoded data removed]",
      "text/plain": [
       "<Figure size 640x480 with 1 Axes>"
      ]
     },
     "metadata": {},
     "output_type": "display_data"
    },
    {
     "data": {
      "image/png": "[encoded data removed]",
      "text/plain": [
       "<Figure size 640x480 with 1 Axes>"
      ]
     },
     "metadata": {},
     "output_type": "display_data"
    }
   ],
   "source": [
    "# Plotting the history which shows the progress of each epochs \n",
    "plt.plot(history.history[\"accuracy\"])\n",
    "plt.plot(history.history[\"val_accuracy\"])\n",
    "plt.xlabel(\"Epochs\")\n",
    "plt.ylabel(\"Accuracy\")\n",
    "plt.legend([\"accuracy\", \"val_accuracy\"])\n",
    "plt.show()\n",
    "\n",
    "plt.plot(history.history[\"loss\"])\n",
    "plt.plot(history.history[\"val_loss\"])\n",
    "plt.xlabel(\"Epochs\")\n",
    "plt.ylabel(\"Loss\")\n",
    "plt.legend([\"loss\", \"val_loss\"])\n",
    "plt.show()"
   ]
  },
  {
   "cell_type": "markdown",
   "id": "19861038",
   "metadata": {},
   "source": [
    "# Model Evaluation on Test Data"
   ]
  },
  {
   "cell_type": "code",
   "execution_count": 39,
   "id": "19b696b1",
   "metadata": {},
   "outputs": [
    {
     "name": "stdout",
     "output_type": "stream",
     "text": [
      "116/116 [==============================] - 12s 100ms/step - loss: 0.0289 - accuracy: 0.9925 - precision: 0.9937\n"
     ]
    },
    {
     "data": {
      "text/plain": [
       "[0.028936520218849182, 0.9925004243850708, 0.9936631917953491]"
      ]
     },
     "execution_count": 39,
     "metadata": {},
     "output_type": "execute_result"
    }
   ],
   "source": [
    "#Evaluating model on test data\n",
    "model.evaluate(X_test, y_test)"
   ]
  },
  {
   "cell_type": "code",
   "execution_count": 40,
   "id": "0c7e061b",
   "metadata": {},
   "outputs": [
    {
     "name": "stdout",
     "output_type": "stream",
     "text": [
      "116/116 [==============================] - 12s 86ms/step\n"
     ]
    }
   ],
   "source": [
    "# model's output predictions for the test data\n",
    "y_pred = model.predict(X_test)\n",
    "#predicted and true labels for each timestep in the test sequence\n",
    "y_pred_labels = np.argmax(y_pred, axis=2)\n",
    "y_true_labels=np.argmax(y_test, axis=2)"
   ]
  },
  {
   "cell_type": "code",
   "execution_count": 41,
   "id": "d163b860",
   "metadata": {},
   "outputs": [],
   "source": [
    "#Precision and Recall for each class separately\n",
    "\n",
    "precision = precision_score(y_true_labels.flatten(), y_pred_labels.flatten(), average=None)\n",
    "recall = recall_score(y_true_labels.flatten(), y_pred_labels.flatten(), average=None)"
   ]
  },
  {
   "cell_type": "code",
   "execution_count": 42,
   "id": "414b3a79",
   "metadata": {},
   "outputs": [
    {
     "name": "stdout",
     "output_type": "stream",
     "text": [
      "Class : Precision = 1.00\n",
      "Class [UNK]: Precision = 0.96\n",
      "Class O: Precision = 0.90\n",
      "Class B-LOC: Precision = 0.92\n",
      "Class B-PER: Precision = 0.68\n",
      "Class B-ORG: Precision = 0.93\n",
      "Class I-PER: Precision = 0.62\n",
      "Class I-ORG: Precision = 0.69\n",
      "Class B-MISC: Precision = 0.57\n",
      "Class I-MISC: Precision = 0.42\n"
     ]
    }
   ],
   "source": [
    "# Display the precision for each class\n",
    "for i in range(len(precision)):\n",
    "    name = vocabulary_tag[i]\n",
    "    print(\"Class {}: Precision = {:.2f}\".format(name, precision[i]))"
   ]
  },
  {
   "cell_type": "code",
   "execution_count": 43,
   "id": "676c36ba",
   "metadata": {},
   "outputs": [
    {
     "name": "stdout",
     "output_type": "stream",
     "text": [
      "Class : Recall = 1.00\n",
      "Class [UNK]: Recall = 0.98\n",
      "Class O: Recall = 0.79\n",
      "Class B-LOC: Recall = 0.53\n",
      "Class B-PER: Recall = 0.73\n",
      "Class B-ORG: Recall = 0.56\n",
      "Class I-PER: Recall = 0.80\n",
      "Class I-ORG: Recall = 0.70\n",
      "Class B-MISC: Recall = 0.61\n",
      "Class I-MISC: Recall = 0.53\n"
     ]
    }
   ],
   "source": [
    "# Display the Recall for each class\n",
    "for i in range(len(recall)):\n",
    "    name=vocabulary_tag[i]\n",
    "    print(\"Class {}: Recall = {:.2f}\".format(name, recall[i]))"
   ]
  },
  {
   "cell_type": "markdown",
   "id": "0cd7145b",
   "metadata": {},
   "source": [
    "# Demonstration of Trained Model on a Test Sentence"
   ]
  },
  {
   "cell_type": "code",
   "execution_count": 50,
   "id": "a6735492",
   "metadata": {},
   "outputs": [
    {
     "name": "stdout",
     "output_type": "stream",
     "text": [
      "one-day cricket international between Pakistan and New Zealand\n",
      "1/1 [==============================] - 0s 69ms/step\n"
     ]
    }
   ],
   "source": [
    "sentence=df_test[\"Word\"].iloc[100]\n",
    "print(sentence)\n",
    "example_input=vectorize_layer(sentence)\n",
    "example_input = tf.reshape(example_input, shape=(1, -1,))\n",
    "predicted_example=np.argmax(model.predict(example_input), axis=2)"
   ]
  },
  {
   "cell_type": "code",
   "execution_count": 51,
   "id": "119d64e9",
   "metadata": {},
   "outputs": [
    {
     "name": "stdout",
     "output_type": "stream",
     "text": [
      "Predicted Tags:  ['O', 'O', 'O', 'O', 'B-LOC', 'O', 'B-LOC', 'I-LOC']\n",
      "Original Tags  O O O O B-LOC O B-LOC I-LOC\n"
     ]
    }
   ],
   "source": [
    "#generate predicted tags for each word in the sentence and compare them to the corresponding tags in the DataFrame\n",
    "length=len(df_test[\"Word\"].iloc[100].split(\" \"))\n",
    "predictedtagsexample=[vocabulary_tag[i] for i in predicted_example.flatten()]\n",
    "print(\"Predicted Tags: \", predictedtagsexample[:length])\n",
    "print(\"Original Tags \",df_test[\"Tag\"].iloc[100])"
   ]
  },
  {
   "cell_type": "markdown",
   "id": "19c1ab51",
   "metadata": {},
   "source": [
    "# Predicting labels for a user-input sentence using trained model"
   ]
  },
  {
   "cell_type": "code",
   "execution_count": 54,
   "id": "56feb534",
   "metadata": {},
   "outputs": [
    {
     "name": "stdout",
     "output_type": "stream",
     "text": [
      "Please enter a sentence: The United Nations General Assembly will convene in New York City.\n",
      "\n",
      " Test sentence:  The United Nations General Assembly will convene in New York City.\n",
      "1/1 [==============================] - 0s 68ms/step\n",
      "Predicted tags:  ['B-ORG', 'B-ORG', 'I-ORG', 'I-ORG', 'I-ORG', 'O', 'O', 'O', 'B-LOC', 'I-LOC', 'I-LOC', '', '', '', '', '', '', '', '', '', '', '', '', '', '', '', '', '', '', '', '', '', '', '', '', '', '', '', '', '', '', '', '', '', '', '', '', '', '', '', '', '', '', '', '', '', '', '', '', '', '', '', '', '', '', '', '', '', '', '', '', '', '', '', '', '', '', '', '', '', '', '', '', '', '', '', '', '', '', '', '', '', '', '', '', '', '', '', '', '', '', '', '', '', '', '', '', '', '', '', '', '', '', '', '', '', '', '', '', '', '', '', '', '']\n"
     ]
    }
   ],
   "source": [
    "sentence=input(\"Please enter a sentence: \")\n",
    "print(\"\\n Test sentence: \", sentence)\n",
    "example_input=vectorize_layer(sentence)\n",
    "example_input = tf.reshape(example_input, shape=(1, -1,))\n",
    "predicted_example=np.argmax(model.predict(example_input), axis=2)\n",
    "predicted_tags_example=[vocabulary_tag[i] for i in predicted_example.flatten()]\n",
    "print(\"Predicted tags: \", predicted_tags_example[:])"
   ]
  },
  {
   "cell_type": "markdown",
   "id": "6b51c2d8",
   "metadata": {},
   "source": [
    "# Reference"
   ]
  },
  {
   "cell_type": "markdown",
   "id": "c8bd8fe4",
   "metadata": {},
   "source": [
    "[1]. Speech and Language Processing. Daniel Jurafsky & James H. Martin. Chapter 8 and 9. Draft of January 7, 2023. https://web.stanford.edu/~jurafsky/slp3/8.pdf\n",
    "\n",
    "[2]. Introduction to the CoNLL-2003 Shared Task: Language-Independent Named Entity Recognition.Erik F. Tjong Kim Sang and Fien De Meulder. https://aclanthology.org/W03-0419.pdf"
   ]
  },
  {
   "cell_type": "code",
   "execution_count": null,
   "id": "7c7b6816",
   "metadata": {},
   "outputs": [],
   "source": []
  }
 ],
 "metadata": {
  "kernelspec": {
   "display_name": "Python 3 (ipykernel)",
   "language": "python",
   "name": "python3"
  },
  "language_info": {
   "codemirror_mode": {
    "name": "ipython",
    "version": 3
   },
   "file_extension": ".py",
   "mimetype": "text/x-python",
   "name": "python",
   "nbconvert_exporter": "python",
   "pygments_lexer": "ipython3",
   "version": "3.10.0"
  }
 },
 "nbformat": 4,
 "nbformat_minor": 5
}
